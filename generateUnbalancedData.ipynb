{
 "cells": [
  {
   "cell_type": "markdown",
   "metadata": {},
   "source": [
    "# 利用 AWS Sagemaker BlazingText 对不均衡文本进行多分类"
   ]
  },
  {
   "cell_type": "markdown",
   "metadata": {},
   "source": [
    "## 生成不均衡文本数据集\n",
    "\n",
    "原始数据集：DBpedia中均衡数据集，一个14个label，每个label都是4W条数据\n",
    "\n",
    "新的数据集：利用随机采样生成不均衡数据集，一共14个label，数量从4W到20"
   ]
  },
  {
   "cell_type": "code",
   "execution_count": 50,
   "metadata": {},
   "outputs": [
    {
     "name": "stdout",
     "output_type": "stream",
     "text": [
      "--2020-08-14 10:31:52--  https://github.com/saurabh3949/Text-Classification-Datasets/raw/master/dbpedia_csv.tar.gz\n",
      "Resolving github.com (github.com)... 13.114.40.48\n",
      "Connecting to github.com (github.com)|13.114.40.48|:443... connected.\n",
      "HTTP request sent, awaiting response... 302 Found\n",
      "Location: https://raw.githubusercontent.com/saurabh3949/Text-Classification-Datasets/master/dbpedia_csv.tar.gz [following]\n",
      "--2020-08-14 10:31:52--  https://raw.githubusercontent.com/saurabh3949/Text-Classification-Datasets/master/dbpedia_csv.tar.gz\n",
      "Resolving raw.githubusercontent.com (raw.githubusercontent.com)... 151.101.108.133\n",
      "Connecting to raw.githubusercontent.com (raw.githubusercontent.com)|151.101.108.133|:443... connected.\n",
      "HTTP request sent, awaiting response... 200 OK\n",
      "Length: 68431223 (65M) [application/octet-stream]\n",
      "Saving to: ‘dbpedia_csv.tar.gz’\n",
      "\n",
      "dbpedia_csv.tar.gz  100%[===================>]  65.26M   214MB/s    in 0.3s    \n",
      "\n",
      "2020-08-14 10:31:56 (214 MB/s) - ‘dbpedia_csv.tar.gz’ saved [68431223/68431223]\n",
      "\n"
     ]
    }
   ],
   "source": [
    "# 下载数据集\n",
    "\n",
    "!wget https://github.com/saurabh3949/Text-Classification-Datasets/raw/master/dbpedia_csv.tar.gz"
   ]
  },
  {
   "cell_type": "code",
   "execution_count": 51,
   "metadata": {},
   "outputs": [
    {
     "name": "stdout",
     "output_type": "stream",
     "text": [
      "dbpedia_csv/\n",
      "dbpedia_csv/test.csv\n",
      "dbpedia_csv/classes.txt\n",
      "dbpedia_csv/train.csv\n",
      "dbpedia_csv/readme.txt\n"
     ]
    }
   ],
   "source": [
    "!tar -xzvf dbpedia_csv.tar.gz"
   ]
  },
  {
   "cell_type": "code",
   "execution_count": 1,
   "metadata": {},
   "outputs": [
    {
     "name": "stdout",
     "output_type": "stream",
     "text": [
      "行数：560000\n"
     ]
    },
    {
     "data": {
      "text/html": [
       "<div>\n",
       "<style scoped>\n",
       "    .dataframe tbody tr th:only-of-type {\n",
       "        vertical-align: middle;\n",
       "    }\n",
       "\n",
       "    .dataframe tbody tr th {\n",
       "        vertical-align: top;\n",
       "    }\n",
       "\n",
       "    .dataframe thead th {\n",
       "        text-align: right;\n",
       "    }\n",
       "</style>\n",
       "<table border=\"1\" class=\"dataframe\">\n",
       "  <thead>\n",
       "    <tr style=\"text-align: right;\">\n",
       "      <th></th>\n",
       "      <th>label</th>\n",
       "      <th>title</th>\n",
       "      <th>abstract</th>\n",
       "    </tr>\n",
       "  </thead>\n",
       "  <tbody>\n",
       "    <tr>\n",
       "      <th>0</th>\n",
       "      <td>1</td>\n",
       "      <td>E. D. Abbott Ltd</td>\n",
       "      <td>Abbott of Farnham E D Abbott Limited was a Br...</td>\n",
       "    </tr>\n",
       "    <tr>\n",
       "      <th>1</th>\n",
       "      <td>1</td>\n",
       "      <td>Schwan-Stabilo</td>\n",
       "      <td>Schwan-STABILO is a German maker of pens for ...</td>\n",
       "    </tr>\n",
       "    <tr>\n",
       "      <th>2</th>\n",
       "      <td>1</td>\n",
       "      <td>Q-workshop</td>\n",
       "      <td>Q-workshop is a Polish company located in Poz...</td>\n",
       "    </tr>\n",
       "    <tr>\n",
       "      <th>3</th>\n",
       "      <td>1</td>\n",
       "      <td>Marvell Software Solutions Israel</td>\n",
       "      <td>Marvell Software Solutions Israel known as RA...</td>\n",
       "    </tr>\n",
       "    <tr>\n",
       "      <th>4</th>\n",
       "      <td>1</td>\n",
       "      <td>Bergan Mercy Medical Center</td>\n",
       "      <td>Bergan Mercy Medical Center is a hospital loc...</td>\n",
       "    </tr>\n",
       "  </tbody>\n",
       "</table>\n",
       "</div>"
      ],
      "text/plain": [
       "   label                              title  \\\n",
       "0      1                   E. D. Abbott Ltd   \n",
       "1      1                     Schwan-Stabilo   \n",
       "2      1                         Q-workshop   \n",
       "3      1  Marvell Software Solutions Israel   \n",
       "4      1        Bergan Mercy Medical Center   \n",
       "\n",
       "                                            abstract  \n",
       "0   Abbott of Farnham E D Abbott Limited was a Br...  \n",
       "1   Schwan-STABILO is a German maker of pens for ...  \n",
       "2   Q-workshop is a Polish company located in Poz...  \n",
       "3   Marvell Software Solutions Israel known as RA...  \n",
       "4   Bergan Mercy Medical Center is a hospital loc...  "
      ]
     },
     "execution_count": 1,
     "metadata": {},
     "output_type": "execute_result"
    }
   ],
   "source": [
    "import pandas as pd\n",
    "\n",
    "origin_df = pd.read_csv('dbpedia_csv/train.csv')\n",
    "print(\"行数：\" + str(origin_df.shape[0]))\n",
    "origin_df.head(5)"
   ]
  },
  {
   "cell_type": "code",
   "execution_count": 2,
   "metadata": {},
   "outputs": [
    {
     "name": "stdout",
     "output_type": "stream",
     "text": [
      "14    40000\n",
      "13    40000\n",
      "12    40000\n",
      "11    40000\n",
      "10    40000\n",
      "9     40000\n",
      "8     40000\n",
      "7     40000\n",
      "6     40000\n",
      "5     40000\n",
      "4     40000\n",
      "3     40000\n",
      "2     40000\n",
      "1     40000\n",
      "Name: label, dtype: int64\n"
     ]
    }
   ],
   "source": [
    "count_classes = pd.value_counts(origin_df['label'], sort = True)\n",
    "print(count_classes)"
   ]
  },
  {
   "cell_type": "code",
   "execution_count": 45,
   "metadata": {},
   "outputs": [],
   "source": [
    "grouped = origin_df.groupby('label')\n",
    "new_df = grouped.get_group(1)"
   ]
  },
  {
   "cell_type": "code",
   "execution_count": 46,
   "metadata": {},
   "outputs": [],
   "source": [
    "# 对每个label随机取样\n",
    "\n",
    "group2 = grouped.get_group(2)\n",
    "new_group2 = group2.sample(n=38000)\n",
    "\n",
    "group3 = grouped.get_group(3)\n",
    "new_group3 = group3.sample(n=18000)\n",
    "\n",
    "group4 = grouped.get_group(4)\n",
    "new_group4 = group4.sample(n=17000)\n",
    "\n",
    "group5 = grouped.get_group(5)\n",
    "new_group5 = group5.sample(n=16000)\n",
    "\n",
    "group6 = grouped.get_group(6)\n",
    "new_group6 = group6.sample(n=15000)\n",
    "\n",
    "group7 = grouped.get_group(7)\n",
    "new_group7 = group7.sample(n=14000)\n",
    "\n",
    "group8 = grouped.get_group(8)\n",
    "new_group8 = group8.sample(n=13000)\n",
    "\n",
    "group9 = grouped.get_group(9)\n",
    "new_group9 = group9.sample(n=8000)\n",
    "\n",
    "group10 = grouped.get_group(10)\n",
    "new_group10 = group10.sample(n=5000)\n",
    "\n",
    "group11 = grouped.get_group(11)\n",
    "new_group11 = group11.sample(n=3000)\n",
    "\n",
    "group12 = grouped.get_group(12)\n",
    "new_group12 = group12.sample(n=900)\n",
    "\n",
    "group13 = grouped.get_group(13)\n",
    "new_group13 = group13.sample(n=100)\n",
    "\n",
    "group14 = grouped.get_group(14)\n",
    "new_group14 = group14.sample(n=20)"
   ]
  },
  {
   "cell_type": "code",
   "execution_count": 47,
   "metadata": {},
   "outputs": [
    {
     "name": "stdout",
     "output_type": "stream",
     "text": [
      "行数：188020\n",
      "1     40000\n",
      "2     38000\n",
      "3     18000\n",
      "4     17000\n",
      "5     16000\n",
      "6     15000\n",
      "7     14000\n",
      "8     13000\n",
      "9      8000\n",
      "10     5000\n",
      "11     3000\n",
      "12      900\n",
      "13      100\n",
      "14       20\n",
      "Name: label, dtype: int64\n"
     ]
    }
   ],
   "source": [
    "new_df = new_df.append(new_group2)\n",
    "new_df = new_df.append(new_group3)\n",
    "new_df = new_df.append(new_group4)\n",
    "new_df = new_df.append(new_group5)\n",
    "new_df = new_df.append(new_group6)\n",
    "new_df = new_df.append(new_group7)\n",
    "new_df = new_df.append(new_group8)\n",
    "new_df = new_df.append(new_group9)\n",
    "new_df = new_df.append(new_group10)\n",
    "new_df = new_df.append(new_group11)\n",
    "new_df = new_df.append(new_group12)\n",
    "new_df = new_df.append(new_group13)\n",
    "new_df = new_df.append(new_group14)\n",
    "\n",
    "\n",
    "print(\"行数：\" + str(new_df.shape[0]))\n",
    "\n",
    "new_count_classes = pd.value_counts(new_df['label'], sort = True)\n",
    "print(new_count_classes)"
   ]
  },
  {
   "cell_type": "code",
   "execution_count": 48,
   "metadata": {},
   "outputs": [
    {
     "data": {
      "image/png": "[encoded data removed]",
      "text/plain": [
       "<Figure size 432x288 with 1 Axes>"
      ]
     },
     "metadata": {
      "needs_background": "light"
     },
     "output_type": "display_data"
    }
   ],
   "source": [
    "import matplotlib.pyplot as plt\n",
    "\n",
    "count_classes = new_df.label.value_counts()\n",
    "count_classes.plot(kind = 'bar')\n",
    "plt.title(\"label distribution\")\n",
    "plt.xlabel(\"Class\")\n",
    "plt.ylabel(\"Frequency\");"
   ]
  },
  {
   "cell_type": "code",
   "execution_count": 49,
   "metadata": {},
   "outputs": [],
   "source": [
    "new_df.to_csv(\"original_dataset/dataset.csv\", index=0)"
   ]
  },
  {
   "cell_type": "code",
   "execution_count": 52,
   "metadata": {},
   "outputs": [
    {
     "data": {
      "text/plain": [
       "'original_dataset/classes.txt'"
      ]
     },
     "execution_count": 52,
     "metadata": {},
     "output_type": "execute_result"
    }
   ],
   "source": [
    "from shutil import copyfile\n",
    "\n",
    "copyfile(\"dbpedia_csv/classes.txt\", \"original_dataset/classes.txt\")"
   ]
  },
  {
   "cell_type": "code",
   "execution_count": null,
   "metadata": {},
   "outputs": [],
   "source": []
  }
 ],
 "metadata": {
  "kernelspec": {
   "display_name": "conda_python3",
   "language": "python",
   "name": "conda_python3"
  },
  "language_info": {
   "codemirror_mode": {
    "name": "ipython",
    "version": 3
   },
   "file_extension": ".py",
   "mimetype": "text/x-python",
   "name": "python",
   "nbconvert_exporter": "python",
   "pygments_lexer": "ipython3",
   "version": "3.6.10"
  }
 },
 "nbformat": 4,
 "nbformat_minor": 4
}
