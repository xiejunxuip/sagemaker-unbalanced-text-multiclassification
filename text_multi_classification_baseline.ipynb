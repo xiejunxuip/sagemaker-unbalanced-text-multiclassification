{
 "cells": [
  {
   "cell_type": "markdown",
   "metadata": {},
   "source": [
    "# 利用 AWS Sagemaker BlazingText 对不均衡文本进行多分类"
   ]
  },
  {
   "cell_type": "markdown",
   "metadata": {},
   "source": [
    "## baseline实验\n",
    "\n",
    "Step 0 - Setup；\n",
    "Step 1 - 数据集分析；\n",
    "Step 2 - 数据预处理；"
   ]
  },
  {
   "cell_type": "markdown",
   "metadata": {},
   "source": [
    "# Step 0 - Setup\n",
    "\n",
    "指定用于存放训练和模型数据的S3存储桶和前缀。 \n",
    "\n",
    "并指定 IAM 角色用于授予SageMaker访问数据的权限。 "
   ]
  },
  {
   "cell_type": "code",
   "execution_count": 1,
   "metadata": {},
   "outputs": [
    {
     "name": "stdout",
     "output_type": "stream",
     "text": [
      "arn:aws:iam::528326054333:role/service-role/AmazonSageMaker-ExecutionRole-20190827T175137\n"
     ]
    }
   ],
   "source": [
    "import sagemaker\n",
    "from sagemaker import get_execution_role\n",
    "import json\n",
    "import boto3\n",
    "\n",
    "sess = sagemaker.Session()\n",
    "\n",
    "role = get_execution_role()\n",
    "print(role)\n",
    "\n",
    "bucket = 'sagemaker-workshop-demos'\n",
    "prefix = 'unbalanced-text-multi-classification'"
   ]
  },
  {
   "cell_type": "markdown",
   "metadata": {},
   "source": [
    "# Step 1 - 数据集分析"
   ]
  },
  {
   "cell_type": "code",
   "execution_count": 2,
   "metadata": {},
   "outputs": [
    {
     "name": "stdout",
     "output_type": "stream",
     "text": [
      "行数：188020\n"
     ]
    },
    {
     "data": {
      "text/html": [
       "<div>\n",
       "<style scoped>\n",
       "    .dataframe tbody tr th:only-of-type {\n",
       "        vertical-align: middle;\n",
       "    }\n",
       "\n",
       "    .dataframe tbody tr th {\n",
       "        vertical-align: top;\n",
       "    }\n",
       "\n",
       "    .dataframe thead th {\n",
       "        text-align: right;\n",
       "    }\n",
       "</style>\n",
       "<table border=\"1\" class=\"dataframe\">\n",
       "  <thead>\n",
       "    <tr style=\"text-align: right;\">\n",
       "      <th></th>\n",
       "      <th>label</th>\n",
       "      <th>title</th>\n",
       "      <th>abstract</th>\n",
       "    </tr>\n",
       "  </thead>\n",
       "  <tbody>\n",
       "    <tr>\n",
       "      <th>0</th>\n",
       "      <td>1</td>\n",
       "      <td>E. D. Abbott Ltd</td>\n",
       "      <td>Abbott of Farnham E D Abbott Limited was a Br...</td>\n",
       "    </tr>\n",
       "    <tr>\n",
       "      <th>1</th>\n",
       "      <td>1</td>\n",
       "      <td>Schwan-Stabilo</td>\n",
       "      <td>Schwan-STABILO is a German maker of pens for ...</td>\n",
       "    </tr>\n",
       "    <tr>\n",
       "      <th>2</th>\n",
       "      <td>1</td>\n",
       "      <td>Q-workshop</td>\n",
       "      <td>Q-workshop is a Polish company located in Poz...</td>\n",
       "    </tr>\n",
       "    <tr>\n",
       "      <th>3</th>\n",
       "      <td>1</td>\n",
       "      <td>Marvell Software Solutions Israel</td>\n",
       "      <td>Marvell Software Solutions Israel known as RA...</td>\n",
       "    </tr>\n",
       "    <tr>\n",
       "      <th>4</th>\n",
       "      <td>1</td>\n",
       "      <td>Bergan Mercy Medical Center</td>\n",
       "      <td>Bergan Mercy Medical Center is a hospital loc...</td>\n",
       "    </tr>\n",
       "  </tbody>\n",
       "</table>\n",
       "</div>"
      ],
      "text/plain": [
       "   label                              title  \\\n",
       "0      1                   E. D. Abbott Ltd   \n",
       "1      1                     Schwan-Stabilo   \n",
       "2      1                         Q-workshop   \n",
       "3      1  Marvell Software Solutions Israel   \n",
       "4      1        Bergan Mercy Medical Center   \n",
       "\n",
       "                                            abstract  \n",
       "0   Abbott of Farnham E D Abbott Limited was a Br...  \n",
       "1   Schwan-STABILO is a German maker of pens for ...  \n",
       "2   Q-workshop is a Polish company located in Poz...  \n",
       "3   Marvell Software Solutions Israel known as RA...  \n",
       "4   Bergan Mercy Medical Center is a hospital loc...  "
      ]
     },
     "execution_count": 2,
     "metadata": {},
     "output_type": "execute_result"
    }
   ],
   "source": [
    "import pandas as pd\n",
    "\n",
    "step1_df = pd.read_csv('original_dataset/dataset.csv')\n",
    "print(\"行数：\" + str(step1_df.shape[0]))\n",
    "step1_df.head()"
   ]
  },
  {
   "cell_type": "code",
   "execution_count": 3,
   "metadata": {},
   "outputs": [
    {
     "name": "stdout",
     "output_type": "stream",
     "text": [
      "1     40000\n",
      "2     38000\n",
      "3     18000\n",
      "4     17000\n",
      "5     16000\n",
      "6     15000\n",
      "7     14000\n",
      "8     13000\n",
      "9      8000\n",
      "10     5000\n",
      "11     3000\n",
      "12      900\n",
      "13      100\n",
      "14       20\n",
      "Name: label, dtype: int64\n"
     ]
    }
   ],
   "source": [
    "# 查看一共有哪些类别以及每个类别数据的数量分布情况\n",
    "\n",
    "count_classes = pd.value_counts(step1_df['label'], sort = True)\n",
    "print(count_classes)"
   ]
  },
  {
   "cell_type": "code",
   "execution_count": 4,
   "metadata": {},
   "outputs": [
    {
     "data": {
      "image/png": "[encoded data removed]",
      "text/plain": [
       "<Figure size 432x288 with 1 Axes>"
      ]
     },
     "metadata": {
      "needs_background": "light"
     },
     "output_type": "display_data"
    }
   ],
   "source": [
    "# 类别分布图\n",
    "\n",
    "import matplotlib.pyplot as plt\n",
    "\n",
    "count_classes = step1_df.label.value_counts()\n",
    "count_classes.plot(kind = 'bar')\n",
    "plt.title(\"label distribution\")\n",
    "plt.xlabel(\"Class\")\n",
    "plt.ylabel(\"Frequency\");"
   ]
  },
  {
   "cell_type": "code",
   "execution_count": 5,
   "metadata": {},
   "outputs": [
    {
     "name": "stdout",
     "output_type": "stream",
     "text": [
      "Company\n",
      "EducationalInstitution\n",
      "Artist\n",
      "Athlete\n",
      "OfficeHolder\n",
      "MeanOfTransportation\n",
      "Building\n",
      "NaturalPlace\n",
      "Village\n",
      "Animal\n",
      "Plant\n",
      "Album\n",
      "Film\n",
      "WrittenWork\n"
     ]
    }
   ],
   "source": [
    "# 查看数字类别对应的名称\n",
    "\n",
    "!cat original_dataset/classes.txt"
   ]
  },
  {
   "cell_type": "code",
   "execution_count": 6,
   "metadata": {},
   "outputs": [
    {
     "name": "stdout",
     "output_type": "stream",
     "text": [
      "{'1': 'Company', '2': 'EducationalInstitution', '3': 'Artist', '4': 'Athlete', '5': 'OfficeHolder', '6': 'MeanOfTransportation', '7': 'Building', '8': 'NaturalPlace', '9': 'Village', '10': 'Animal', '11': 'Plant', '12': 'Album', '13': 'Film', '14': 'WrittenWork'}\n"
     ]
    }
   ],
   "source": [
    "# 创建从整数索引到类标签的字典映射\n",
    "\n",
    "index_to_label = {} \n",
    "with open(\"original_dataset/classes.txt\") as f:\n",
    "    for i,label in enumerate(f.readlines()):\n",
    "        index_to_label[str(i+1)] = label.strip()\n",
    "print(index_to_label)"
   ]
  },
  {
   "cell_type": "markdown",
   "metadata": {},
   "source": [
    "## Step 2 - 数据预处理\n",
    "\n",
    "1.去掉空行；2.大小写统一；3.分词；4.转化为BlazingText的数据集格式\n",
    "\n",
    "预处理后的数据集已经可以作为Baseline实验的数据集"
   ]
  },
  {
   "cell_type": "code",
   "execution_count": 7,
   "metadata": {},
   "outputs": [
    {
     "name": "stderr",
     "output_type": "stream",
     "text": [
      "[nltk_data] Downloading package punkt to /home/ec2-user/nltk_data...\n",
      "[nltk_data]   Package punkt is already up-to-date!\n"
     ]
    },
    {
     "data": {
      "text/plain": [
       "True"
      ]
     },
     "execution_count": 7,
     "metadata": {},
     "output_type": "execute_result"
    }
   ],
   "source": [
    "from random import shuffle\n",
    "import multiprocessing\n",
    "from multiprocessing import Pool\n",
    "import csv\n",
    "import nltk\n",
    "nltk.download('punkt')"
   ]
  },
  {
   "cell_type": "code",
   "execution_count": 8,
   "metadata": {},
   "outputs": [
    {
     "name": "stdout",
     "output_type": "stream",
     "text": [
      "{'1': '__label__Company', '2': '__label__EducationalInstitution', '3': '__label__Artist', '4': '__label__Athlete', '5': '__label__OfficeHolder', '6': '__label__MeanOfTransportation', '7': '__label__Building', '8': '__label__NaturalPlace', '9': '__label__Village', '10': '__label__Animal', '11': '__label__Plant', '12': '__label__Album', '13': '__label__Film', '14': '__label__WrittenWork'}\n"
     ]
    }
   ],
   "source": [
    "# 创建从整数索引到以“__label__”开头的类标签的字典映射\n",
    "\n",
    "index_to_label_final = {}\n",
    "for key in index_to_label:\n",
    "    index_to_label_final[key] = \"__label__\" + str(index_to_label[key]) \n",
    "\n",
    "print(index_to_label_final) "
   ]
  },
  {
   "cell_type": "code",
   "execution_count": 10,
   "metadata": {},
   "outputs": [
    {
     "data": {
      "text/html": [
       "<div>\n",
       "<style scoped>\n",
       "    .dataframe tbody tr th:only-of-type {\n",
       "        vertical-align: middle;\n",
       "    }\n",
       "\n",
       "    .dataframe tbody tr th {\n",
       "        vertical-align: top;\n",
       "    }\n",
       "\n",
       "    .dataframe thead th {\n",
       "        text-align: right;\n",
       "    }\n",
       "</style>\n",
       "<table border=\"1\" class=\"dataframe\">\n",
       "  <thead>\n",
       "    <tr style=\"text-align: right;\">\n",
       "      <th></th>\n",
       "      <th>label</th>\n",
       "      <th>sentence</th>\n",
       "    </tr>\n",
       "  </thead>\n",
       "  <tbody>\n",
       "    <tr>\n",
       "      <th>0</th>\n",
       "      <td>__label__Company</td>\n",
       "      <td>E. D. Abbott Ltd, Abbott of Farnham E D Abbott...</td>\n",
       "    </tr>\n",
       "    <tr>\n",
       "      <th>1</th>\n",
       "      <td>__label__Company</td>\n",
       "      <td>Schwan-Stabilo, Schwan-STABILO is a German mak...</td>\n",
       "    </tr>\n",
       "    <tr>\n",
       "      <th>2</th>\n",
       "      <td>__label__Company</td>\n",
       "      <td>Q-workshop, Q-workshop is a Polish company loc...</td>\n",
       "    </tr>\n",
       "    <tr>\n",
       "      <th>3</th>\n",
       "      <td>__label__Company</td>\n",
       "      <td>Marvell Software Solutions Israel, Marvell Sof...</td>\n",
       "    </tr>\n",
       "    <tr>\n",
       "      <th>4</th>\n",
       "      <td>__label__Company</td>\n",
       "      <td>Bergan Mercy Medical Center, Bergan Mercy Medi...</td>\n",
       "    </tr>\n",
       "    <tr>\n",
       "      <th>5</th>\n",
       "      <td>__label__Company</td>\n",
       "      <td>The Unsigned Guide, The Unsigned Guide is an o...</td>\n",
       "    </tr>\n",
       "    <tr>\n",
       "      <th>6</th>\n",
       "      <td>__label__Company</td>\n",
       "      <td>Rest of the world, Within sports and games pla...</td>\n",
       "    </tr>\n",
       "    <tr>\n",
       "      <th>7</th>\n",
       "      <td>__label__Company</td>\n",
       "      <td>Globoforce, Globoforce is a multinational comp...</td>\n",
       "    </tr>\n",
       "    <tr>\n",
       "      <th>8</th>\n",
       "      <td>__label__Company</td>\n",
       "      <td>Rompetrol, The Rompetrol Group N.V. is a Roman...</td>\n",
       "    </tr>\n",
       "    <tr>\n",
       "      <th>9</th>\n",
       "      <td>__label__Company</td>\n",
       "      <td>Wave Accounting, Wave is the brand name for a ...</td>\n",
       "    </tr>\n",
       "  </tbody>\n",
       "</table>\n",
       "</div>"
      ],
      "text/plain": [
       "              label                                           sentence\n",
       "0  __label__Company  E. D. Abbott Ltd, Abbott of Farnham E D Abbott...\n",
       "1  __label__Company  Schwan-Stabilo, Schwan-STABILO is a German mak...\n",
       "2  __label__Company  Q-workshop, Q-workshop is a Polish company loc...\n",
       "3  __label__Company  Marvell Software Solutions Israel, Marvell Sof...\n",
       "4  __label__Company  Bergan Mercy Medical Center, Bergan Mercy Medi...\n",
       "5  __label__Company  The Unsigned Guide, The Unsigned Guide is an o...\n",
       "6  __label__Company  Rest of the world, Within sports and games pla...\n",
       "7  __label__Company  Globoforce, Globoforce is a multinational comp...\n",
       "8  __label__Company  Rompetrol, The Rompetrol Group N.V. is a Roman...\n",
       "9  __label__Company  Wave Accounting, Wave is the brand name for a ..."
      ]
     },
     "execution_count": 10,
     "metadata": {},
     "output_type": "execute_result"
    }
   ],
   "source": [
    "\n",
    "def tokenize(series):\n",
    "    for index, value in series.items():\n",
    "        series[index] = nltk.word_tokenize(value.lower())\n",
    "    return series\n",
    "\n",
    "def preprocess(step1_df):\n",
    "    \n",
    "    step1_df = step1_df.dropna(axis=0) \n",
    "    \n",
    "    step2_df = pd.DataFrame()\n",
    "    step2_df['label'] = step1_df['label']\n",
    "    step2_df['label'] = step2_df['label'].map(str).map(index_to_label_final)\n",
    "    step2_df['sentence'] = step1_df[\"title\"].map(str) +\",\"+ step1_df[\"abstract\"].map(str)\n",
    "#     step2_df['sentence'] = tokenize(step2_df['sentence'])\n",
    "    return step2_df\n",
    "\n",
    "step2_df = preprocess(step1_df)\n",
    "step2_df.head(10)"
   ]
  },
  {
   "cell_type": "code",
   "execution_count": 11,
   "metadata": {},
   "outputs": [],
   "source": [
    "# 预处理后的数据集作为baseline实验的数据集\n",
    "\n",
    "step2_df.to_csv(\"baseline_dataset/dataset_baseline.csv\", sep=\" \", header=0, index=0)"
   ]
  },
  {
   "cell_type": "markdown",
   "metadata": {},
   "source": [
    "## Step3 - 模型训练\n",
    "\n",
    "对原始样本进行文本分类模型的训练。\n",
    "\n",
    "算法选择Sagemaker预置的BlazingText算法中的指导型文本分类模式。"
   ]
  },
  {
   "cell_type": "code",
   "execution_count": 13,
   "metadata": {},
   "outputs": [],
   "source": [
    "# 划分训练集和测试集\n",
    "\n",
    "import numpy as np\n",
    "from sklearn.model_selection import train_test_split\n",
    "\n",
    "baseline_train, baseline_test = train_test_split(step2_df, test_size=0.15)\n",
    "baseline_train.to_csv(\"baseline_dataset/baseline_train.csv\", sep=\" \", header=0, index=0)\n",
    "baseline_test.to_csv(\"baseline_dataset/baseline_test.csv\", sep=\" \", header=0, index=0)"
   ]
  },
  {
   "cell_type": "code",
   "execution_count": 14,
   "metadata": {},
   "outputs": [],
   "source": [
    "# 上传数据到 S3\n",
    "\n",
    "train_channel = prefix + '/baseline' + '/train'\n",
    "validation_channel = prefix + '/baseline' + '/validation'\n",
    "\n",
    "sess.upload_data(path='baseline_dataset/baseline_train.csv', bucket=bucket, key_prefix=train_channel)\n",
    "sess.upload_data(path='baseline_dataset/baseline_test.csv', bucket=bucket, key_prefix=validation_channel)\n",
    "\n",
    "s3_train_data = 's3://{}/{}'.format(bucket, train_channel)\n",
    "s3_validation_data = 's3://{}/{}'.format(bucket, validation_channel)"
   ]
  },
  {
   "cell_type": "code",
   "execution_count": 15,
   "metadata": {},
   "outputs": [],
   "source": [
    "s3_output_location = 's3://{}/{}/baseline/output'.format(bucket, prefix)"
   ]
  },
  {
   "cell_type": "code",
   "execution_count": 16,
   "metadata": {},
   "outputs": [],
   "source": [
    "region_name = boto3.Session().region_name"
   ]
  },
  {
   "cell_type": "code",
   "execution_count": 17,
   "metadata": {},
   "outputs": [
    {
     "name": "stderr",
     "output_type": "stream",
     "text": [
      "'get_image_uri' method will be deprecated in favor of 'ImageURIProvider' class in SageMaker Python SDK v2.\n"
     ]
    },
    {
     "name": "stdout",
     "output_type": "stream",
     "text": [
      "Using SageMaker BlazingText container: 501404015308.dkr.ecr.ap-northeast-1.amazonaws.com/blazingtext:latest (ap-northeast-1)\n"
     ]
    }
   ],
   "source": [
    "container = sagemaker.amazon.amazon_estimator.get_image_uri(region_name, \"blazingtext\", \"latest\")\n",
    "print('Using SageMaker BlazingText container: {} ({})'.format(container, region_name))"
   ]
  },
  {
   "cell_type": "code",
   "execution_count": 18,
   "metadata": {},
   "outputs": [
    {
     "name": "stderr",
     "output_type": "stream",
     "text": [
      "Parameter image_name will be renamed to image_uri in SageMaker Python SDK v2.\n"
     ]
    }
   ],
   "source": [
    "baseline_model = sagemaker.estimator.Estimator(container,\n",
    "                                         role, \n",
    "                                         train_instance_count=1, \n",
    "                                         train_instance_type='ml.c4.4xlarge',\n",
    "                                         train_volume_size = 30,\n",
    "                                         train_max_run = 360000,\n",
    "                                         input_mode= 'File',\n",
    "                                         output_path=s3_output_location,\n",
    "                                         sagemaker_session=sess)"
   ]
  },
  {
   "cell_type": "code",
   "execution_count": 19,
   "metadata": {},
   "outputs": [],
   "source": [
    "baseline_model.set_hyperparameters(mode=\"supervised\",\n",
    "                            epochs=10,\n",
    "                            min_count=2,\n",
    "                            learning_rate=0.05,\n",
    "                            vector_dim=10,\n",
    "                            early_stopping=True,\n",
    "                            patience=4,\n",
    "                            min_epochs=5,\n",
    "                            word_ngrams=2)"
   ]
  },
  {
   "cell_type": "code",
   "execution_count": 20,
   "metadata": {},
   "outputs": [
    {
     "name": "stderr",
     "output_type": "stream",
     "text": [
      "'s3_input' class will be renamed to 'TrainingInput' in SageMaker Python SDK v2.\n",
      "'s3_input' class will be renamed to 'TrainingInput' in SageMaker Python SDK v2.\n"
     ]
    }
   ],
   "source": [
    "train_data = sagemaker.session.s3_input(s3_train_data, distribution='FullyReplicated', \n",
    "                        content_type='text/plain', s3_data_type='S3Prefix')\n",
    "\n",
    "validation_data = sagemaker.session.s3_input(s3_validation_data, distribution='FullyReplicated', \n",
    "                             content_type='text/plain', s3_data_type='S3Prefix')\n",
    "\n",
    "data_channels = {'train': train_data, 'validation': validation_data}"
   ]
  },
  {
   "cell_type": "code",
   "execution_count": 21,
   "metadata": {},
   "outputs": [
    {
     "name": "stdout",
     "output_type": "stream",
     "text": [
      "2020-08-14 08:57:11 Starting - Starting the training job...\n",
      "2020-08-14 08:57:14 Starting - Launching requested ML instances......\n",
      "2020-08-14 08:58:30 Starting - Preparing the instances for training......\n",
      "2020-08-14 08:59:27 Downloading - Downloading input data\n",
      "2020-08-14 08:59:27 Training - Downloading the training image.\u001b[34mArguments: train\u001b[0m\n",
      "\u001b[34m[08/14/2020 08:59:43 WARNING 140473558898496] Loggers have already been setup.\u001b[0m\n",
      "\u001b[34m[08/14/2020 08:59:43 WARNING 140473558898496] Loggers have already been setup.\u001b[0m\n",
      "\u001b[34m[08/14/2020 08:59:43 INFO 140473558898496] nvidia-smi took: 0.0252330303192 secs to identify 0 gpus\u001b[0m\n",
      "\u001b[34m[08/14/2020 08:59:43 INFO 140473558898496] Running single machine CPU BlazingText training using supervised mode.\u001b[0m\n",
      "\u001b[34m[08/14/2020 08:59:43 INFO 140473558898496] Processing /opt/ml/input/data/train/baseline_train.csv . File size: 52 MB\u001b[0m\n",
      "\u001b[34m[08/14/2020 08:59:43 INFO 140473558898496] Processing /opt/ml/input/data/validation/baseline_test.csv . File size: 9 MB\u001b[0m\n",
      "\u001b[34mRead 8M words\u001b[0m\n",
      "\u001b[34mNumber of words:  195433\u001b[0m\n",
      "\u001b[34mLoading validation data from /opt/ml/input/data/validation/baseline_test.csv\u001b[0m\n",
      "\u001b[34mLoaded validation data.\u001b[0m\n",
      "\u001b[34m-------------- End of epoch: 2\u001b[0m\n",
      "\u001b[34m##### Alpha: 0.0366  Progress: 26.77%  Million Words/sec: 31.98 #####\u001b[0m\n",
      "\u001b[34m-------------- End of epoch: 3\u001b[0m\n",
      "\u001b[34m##### Alpha: 0.0327  Progress: 34.65%  Million Words/sec: 32.26 #####\u001b[0m\n",
      "\u001b[34m##### Alpha: 0.0287  Progress: 42.58%  Million Words/sec: 32.48 #####\u001b[0m\n",
      "\u001b[34m-------------- End of epoch: 4\u001b[0m\n",
      "\u001b[34m##### Alpha: 0.0248  Progress: 50.48%  Million Words/sec: 32.61 #####\u001b[0m\n",
      "\u001b[34m-------------- End of epoch: 5\u001b[0m\n",
      "\u001b[34mUsing 16 threads for prediction!\u001b[0m\n",
      "\u001b[34mValidation accuracy: 0.968124\u001b[0m\n",
      "\u001b[34mValidation accuracy improved! Storing best weights...\u001b[0m\n",
      "\u001b[34m##### Alpha: 0.0209  Progress: 58.24%  Million Words/sec: 28.61 #####\u001b[0m\n",
      "\u001b[34m-------------- End of epoch: 6\u001b[0m\n",
      "\u001b[34mUsing 16 threads for prediction!\u001b[0m\n",
      "\u001b[34mValidation accuracy: 0.96972\u001b[0m\n",
      "\u001b[34mValidation accuracy improved! Storing best weights...\u001b[0m\n",
      "\u001b[34m##### Alpha: 0.0179  Progress: 64.14%  Million Words/sec: 27.03 #####\u001b[0m\n",
      "\u001b[34m##### Alpha: 0.0142  Progress: 71.61%  Million Words/sec: 27.45 #####\u001b[0m\n",
      "\u001b[34m-------------- End of epoch: 7\u001b[0m\n",
      "\u001b[34mUsing 16 threads for prediction!\u001b[0m\n",
      "\u001b[34mValidation accuracy: 0.970287\u001b[0m\n",
      "\u001b[34mValidation accuracy improved! Storing best weights...\u001b[0m\n",
      "\u001b[34m##### Alpha: 0.0115  Progress: 77.00%  Million Words/sec: 26.12 #####\u001b[0m\n",
      "\u001b[34m-------------- End of epoch: 8\u001b[0m\n",
      "\u001b[34mUsing 16 threads for prediction!\u001b[0m\n",
      "\u001b[34mValidation accuracy: 0.970677\u001b[0m\n",
      "\u001b[34mValidation accuracy improved! Storing best weights...\u001b[0m\n",
      "\u001b[34m##### Alpha: 0.0074  Progress: 85.25%  Million Words/sec: 24.64 #####\u001b[0m\n",
      "\u001b[34m##### Alpha: 0.0034  Progress: 93.22%  Million Words/sec: 25.22 #####\u001b[0m\n",
      "\u001b[34m-------------- End of epoch: 9\u001b[0m\n",
      "\u001b[34mUsing 16 threads for prediction!\u001b[0m\n",
      "\u001b[34mValidation accuracy: 0.971173\u001b[0m\n",
      "\u001b[34mValidation accuracy improved! Storing best weights...\u001b[0m\n",
      "\u001b[34m##### Alpha: 0.0006  Progress: 98.80%  Million Words/sec: 24.49 #####\u001b[0m\n",
      "\u001b[34m-------------- End of epoch: 10\u001b[0m\n",
      "\u001b[34mUsing 16 threads for prediction!\u001b[0m\n",
      "\u001b[34mValidation accuracy: 0.971315\u001b[0m\n",
      "\u001b[34mValidation accuracy improved! Storing best weights...\u001b[0m\n",
      "\u001b[34m##### Alpha: 0.0000  Progress: 100.00%  Million Words/sec: 23.50 #####\u001b[0m\n",
      "\u001b[34mTraining finished.\u001b[0m\n",
      "\u001b[34mAverage throughput in Million words/sec: 23.50\u001b[0m\n",
      "\u001b[34mTotal training time in seconds: 3.60\n",
      "\u001b[0m\n",
      "\u001b[34m#train_accuracy: 0.9894\u001b[0m\n",
      "\u001b[34mNumber of train examples: 159817\n",
      "\u001b[0m\n",
      "\u001b[34m#validation_accuracy: 0.9713\u001b[0m\n",
      "\u001b[34mNumber of validation examples: 28203\u001b[0m\n",
      "\n",
      "2020-08-14 08:59:58 Uploading - Uploading generated training model\n",
      "2020-08-14 09:00:15 Completed - Training job completed\n",
      "Training seconds: 60\n",
      "Billable seconds: 60\n"
     ]
    }
   ],
   "source": [
    "# 过采样后的模型训练\n",
    "\n",
    "baseline_model.fit(inputs=data_channels, logs=True)"
   ]
  },
  {
   "cell_type": "markdown",
   "metadata": {},
   "source": [
    "## Step4 - 模型部署\n",
    "\n",
    "对采样后的模型进行部署，并且用测试集进行测试，查看每一个分类的输出指标"
   ]
  },
  {
   "cell_type": "code",
   "execution_count": 22,
   "metadata": {},
   "outputs": [
    {
     "name": "stderr",
     "output_type": "stream",
     "text": [
      "Parameter image will be renamed to image_uri in SageMaker Python SDK v2.\n"
     ]
    },
    {
     "name": "stdout",
     "output_type": "stream",
     "text": [
      "-------------!"
     ]
    }
   ],
   "source": [
    "# 过采样后的模型部署\n",
    "\n",
    "baseline_classifier = baseline_model.deploy(initial_instance_count = 1,instance_type = 'ml.m4.xlarge')"
   ]
  },
  {
   "cell_type": "markdown",
   "metadata": {},
   "source": [
    "## Step 5 - 模型评估和测试"
   ]
  },
  {
   "cell_type": "code",
   "execution_count": 24,
   "metadata": {},
   "outputs": [
    {
     "name": "stderr",
     "output_type": "stream",
     "text": [
      "/home/ec2-user/anaconda3/envs/python3/lib/python3.6/site-packages/sklearn/metrics/_classification.py:1272: UndefinedMetricWarning: Precision and F-score are ill-defined and being set to 0.0 in labels with no predicted samples. Use `zero_division` parameter to control this behavior.\n",
      "  _warn_prf(average, modifier, msg_start, len(result))\n"
     ]
    },
    {
     "name": "stdout",
     "output_type": "stream",
     "text": [
      "                                 precision    recall  f1-score   support\n",
      "\n",
      "                 __label__Album       0.92      0.87      0.89       137\n",
      "                __label__Animal       0.94      0.95      0.95       752\n",
      "                __label__Artist       0.95      0.97      0.96      2734\n",
      "               __label__Athlete       0.99      0.98      0.99      2514\n",
      "              __label__Building       0.95      0.95      0.95      2128\n",
      "               __label__Company       0.96      0.97      0.97      5974\n",
      "__label__EducationalInstitution       0.98      0.98      0.98      5711\n",
      "                  __label__Film       0.00      0.00      0.00        18\n",
      "  __label__MeanOfTransportation       0.97      0.98      0.97      2230\n",
      "          __label__NaturalPlace       0.98      0.99      0.99      2021\n",
      "          __label__OfficeHolder       0.98      0.96      0.97      2322\n",
      "                 __label__Plant       0.94      0.86      0.90       430\n",
      "               __label__Village       1.00      0.99      1.00      1229\n",
      "           __label__WrittenWork       0.00      0.00      0.00         3\n",
      "\n",
      "                       accuracy                           0.97     28203\n",
      "                      macro avg       0.83      0.82      0.82     28203\n",
      "                   weighted avg       0.97      0.97      0.97     28203\n",
      "\n"
     ]
    }
   ],
   "source": [
    "# 样本不均衡处理后的模型测试指标\n",
    "\n",
    "from sklearn.metrics import classification_report\n",
    "import json\n",
    "\n",
    "sentences = baseline_test['sentence'].tolist()\n",
    "# print(sentenses)\n",
    "\n",
    "payload = {\"instances\" : sentences}\n",
    "response = baseline_classifier.predict(json.dumps(payload))\n",
    "predictions = json.loads(response)\n",
    "# print(predictions)\n",
    "\n",
    "predict_label = []\n",
    "for one in predictions:\n",
    "#     print(one['label'][0])\n",
    "    predict_label.append(one['label'][0])\n",
    "# print(predict_label)\n",
    "\n",
    "real_label = baseline_test['label'].tolist()\n",
    "# print(real_label)\n",
    "\n",
    "print(classification_report(real_label, predict_label))"
   ]
  },
  {
   "cell_type": "code",
   "execution_count": null,
   "metadata": {},
   "outputs": [],
   "source": []
  }
 ],
 "metadata": {
  "kernelspec": {
   "display_name": "conda_python3",
   "language": "python",
   "name": "conda_python3"
  },
  "language_info": {
   "codemirror_mode": {
    "name": "ipython",
    "version": 3
   },
   "file_extension": ".py",
   "mimetype": "text/x-python",
   "name": "python",
   "nbconvert_exporter": "python",
   "pygments_lexer": "ipython3",
   "version": "3.6.10"
  }
 },
 "nbformat": 4,
 "nbformat_minor": 4
}
