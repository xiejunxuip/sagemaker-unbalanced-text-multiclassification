{
 "cells": [
  {
   "cell_type": "markdown",
   "metadata": {},
   "source": [
    "# 利用 AWS Sagemaker BlazingText 对不均衡文本进行多分类"
   ]
  },
  {
   "cell_type": "markdown",
   "metadata": {},
   "source": [
    "## 过采样实验（超参数优化）\n",
    "\n",
    "Step 0 - Setup；\n",
    "Step 1 - 数据集分析；\n",
    "Step 2 - 数据预处理；\n",
    "Step 3 - 处理样本不均衡；\n",
    "Step 4 - "
   ]
  },
  {
   "cell_type": "markdown",
   "metadata": {},
   "source": [
    "## Step 0 - Setup\n",
    "\n",
    "指定用于存放训练和模型数据的S3存储桶和前缀。 \n",
    "\n",
    "并指定 IAM 角色用于授予SageMaker访问数据的权限。 "
   ]
  },
  {
   "cell_type": "code",
   "execution_count": 1,
   "metadata": {},
   "outputs": [
    {
     "name": "stdout",
     "output_type": "stream",
     "text": [
      "arn:aws:iam::528326054333:role/service-role/AmazonSageMaker-ExecutionRole-20190827T175137\n"
     ]
    }
   ],
   "source": [
    "import sagemaker\n",
    "from sagemaker import get_execution_role\n",
    "import json\n",
    "import boto3\n",
    "\n",
    "sess = sagemaker.Session()\n",
    "\n",
    "role = get_execution_role()\n",
    "print(role)\n",
    "\n",
    "bucket = 'sagemaker-workshop-demos'\n",
    "prefix = 'unbalanced-text-multi-classification'"
   ]
  },
  {
   "cell_type": "markdown",
   "metadata": {},
   "source": [
    "## Step 1 - 数据集分析"
   ]
  },
  {
   "cell_type": "code",
   "execution_count": 2,
   "metadata": {},
   "outputs": [
    {
     "name": "stdout",
     "output_type": "stream",
     "text": [
      "行数：188020\n"
     ]
    },
    {
     "data": {
      "text/html": [
       "<div>\n",
       "<style scoped>\n",
       "    .dataframe tbody tr th:only-of-type {\n",
       "        vertical-align: middle;\n",
       "    }\n",
       "\n",
       "    .dataframe tbody tr th {\n",
       "        vertical-align: top;\n",
       "    }\n",
       "\n",
       "    .dataframe thead th {\n",
       "        text-align: right;\n",
       "    }\n",
       "</style>\n",
       "<table border=\"1\" class=\"dataframe\">\n",
       "  <thead>\n",
       "    <tr style=\"text-align: right;\">\n",
       "      <th></th>\n",
       "      <th>label</th>\n",
       "      <th>title</th>\n",
       "      <th>abstract</th>\n",
       "    </tr>\n",
       "  </thead>\n",
       "  <tbody>\n",
       "    <tr>\n",
       "      <th>0</th>\n",
       "      <td>1</td>\n",
       "      <td>E. D. Abbott Ltd</td>\n",
       "      <td>Abbott of Farnham E D Abbott Limited was a Br...</td>\n",
       "    </tr>\n",
       "    <tr>\n",
       "      <th>1</th>\n",
       "      <td>1</td>\n",
       "      <td>Schwan-Stabilo</td>\n",
       "      <td>Schwan-STABILO is a German maker of pens for ...</td>\n",
       "    </tr>\n",
       "    <tr>\n",
       "      <th>2</th>\n",
       "      <td>1</td>\n",
       "      <td>Q-workshop</td>\n",
       "      <td>Q-workshop is a Polish company located in Poz...</td>\n",
       "    </tr>\n",
       "    <tr>\n",
       "      <th>3</th>\n",
       "      <td>1</td>\n",
       "      <td>Marvell Software Solutions Israel</td>\n",
       "      <td>Marvell Software Solutions Israel known as RA...</td>\n",
       "    </tr>\n",
       "    <tr>\n",
       "      <th>4</th>\n",
       "      <td>1</td>\n",
       "      <td>Bergan Mercy Medical Center</td>\n",
       "      <td>Bergan Mercy Medical Center is a hospital loc...</td>\n",
       "    </tr>\n",
       "  </tbody>\n",
       "</table>\n",
       "</div>"
      ],
      "text/plain": [
       "   label                              title  \\\n",
       "0      1                   E. D. Abbott Ltd   \n",
       "1      1                     Schwan-Stabilo   \n",
       "2      1                         Q-workshop   \n",
       "3      1  Marvell Software Solutions Israel   \n",
       "4      1        Bergan Mercy Medical Center   \n",
       "\n",
       "                                            abstract  \n",
       "0   Abbott of Farnham E D Abbott Limited was a Br...  \n",
       "1   Schwan-STABILO is a German maker of pens for ...  \n",
       "2   Q-workshop is a Polish company located in Poz...  \n",
       "3   Marvell Software Solutions Israel known as RA...  \n",
       "4   Bergan Mercy Medical Center is a hospital loc...  "
      ]
     },
     "execution_count": 2,
     "metadata": {},
     "output_type": "execute_result"
    }
   ],
   "source": [
    "import pandas as pd\n",
    "\n",
    "step1_df = pd.read_csv('original_dataset/dataset.csv')\n",
    "print(\"行数：\" + str(step1_df.shape[0]))\n",
    "step1_df.head()"
   ]
  },
  {
   "cell_type": "code",
   "execution_count": 3,
   "metadata": {},
   "outputs": [
    {
     "name": "stdout",
     "output_type": "stream",
     "text": [
      "1     40000\n",
      "2     38000\n",
      "3     18000\n",
      "4     17000\n",
      "5     16000\n",
      "6     15000\n",
      "7     14000\n",
      "8     13000\n",
      "9      8000\n",
      "10     5000\n",
      "11     3000\n",
      "12      900\n",
      "13      100\n",
      "14       20\n",
      "Name: label, dtype: int64\n"
     ]
    }
   ],
   "source": [
    "# 查看一共有哪些类别以及每个类别数据的数量分布情况\n",
    "\n",
    "count_classes = pd.value_counts(step1_df['label'], sort = True)\n",
    "print(count_classes)"
   ]
  },
  {
   "cell_type": "code",
   "execution_count": 4,
   "metadata": {},
   "outputs": [
    {
     "data": {
      "image/png": "[encoded data removed]",
      "text/plain": [
       "<Figure size 432x288 with 1 Axes>"
      ]
     },
     "metadata": {
      "needs_background": "light"
     },
     "output_type": "display_data"
    }
   ],
   "source": [
    "# 类别分布图\n",
    "\n",
    "import matplotlib.pyplot as plt\n",
    "\n",
    "count_classes = step1_df.label.value_counts()\n",
    "count_classes.plot(kind = 'bar')\n",
    "plt.title(\"label distribution\")\n",
    "plt.xlabel(\"Class\")\n",
    "plt.ylabel(\"Frequency\");"
   ]
  },
  {
   "cell_type": "code",
   "execution_count": 5,
   "metadata": {},
   "outputs": [
    {
     "name": "stdout",
     "output_type": "stream",
     "text": [
      "Company\n",
      "EducationalInstitution\n",
      "Artist\n",
      "Athlete\n",
      "OfficeHolder\n",
      "MeanOfTransportation\n",
      "Building\n",
      "NaturalPlace\n",
      "Village\n",
      "Animal\n",
      "Plant\n",
      "Album\n",
      "Film\n",
      "WrittenWork\n"
     ]
    }
   ],
   "source": [
    "# 查看数字类别对应的名称\n",
    "\n",
    "!cat original_dataset/classes.txt"
   ]
  },
  {
   "cell_type": "code",
   "execution_count": 6,
   "metadata": {},
   "outputs": [
    {
     "name": "stdout",
     "output_type": "stream",
     "text": [
      "{'1': 'Company', '2': 'EducationalInstitution', '3': 'Artist', '4': 'Athlete', '5': 'OfficeHolder', '6': 'MeanOfTransportation', '7': 'Building', '8': 'NaturalPlace', '9': 'Village', '10': 'Animal', '11': 'Plant', '12': 'Album', '13': 'Film', '14': 'WrittenWork'}\n"
     ]
    }
   ],
   "source": [
    "# 创建从整数索引到类标签的字典映射\n",
    "\n",
    "index_to_label = {} \n",
    "with open(\"original_dataset/classes.txt\") as f:\n",
    "    for i,label in enumerate(f.readlines()):\n",
    "        index_to_label[str(i+1)] = label.strip()\n",
    "print(index_to_label)"
   ]
  },
  {
   "cell_type": "markdown",
   "metadata": {},
   "source": [
    "## Step 2 - 数据预处理\n",
    "\n",
    "1.去掉空行；2.大小写统一；3.分词；4.转化为BlazingText的数据集格式\n",
    "\n",
    "预处理后的数据集已经可以作为Baseline实验的数据集"
   ]
  },
  {
   "cell_type": "code",
   "execution_count": 7,
   "metadata": {},
   "outputs": [
    {
     "name": "stderr",
     "output_type": "stream",
     "text": [
      "[nltk_data] Downloading package punkt to /home/ec2-user/nltk_data...\n",
      "[nltk_data]   Package punkt is already up-to-date!\n"
     ]
    },
    {
     "data": {
      "text/plain": [
       "True"
      ]
     },
     "execution_count": 7,
     "metadata": {},
     "output_type": "execute_result"
    }
   ],
   "source": [
    "from random import shuffle\n",
    "import multiprocessing\n",
    "from multiprocessing import Pool\n",
    "import csv\n",
    "import nltk\n",
    "nltk.download('punkt')"
   ]
  },
  {
   "cell_type": "code",
   "execution_count": 8,
   "metadata": {},
   "outputs": [
    {
     "name": "stdout",
     "output_type": "stream",
     "text": [
      "{'1': '__label__Company', '2': '__label__EducationalInstitution', '3': '__label__Artist', '4': '__label__Athlete', '5': '__label__OfficeHolder', '6': '__label__MeanOfTransportation', '7': '__label__Building', '8': '__label__NaturalPlace', '9': '__label__Village', '10': '__label__Animal', '11': '__label__Plant', '12': '__label__Album', '13': '__label__Film', '14': '__label__WrittenWork'}\n"
     ]
    }
   ],
   "source": [
    "# 创建从整数索引到以“__label__”开头的类标签的字典映射\n",
    "\n",
    "index_to_label_final = {}\n",
    "for key in index_to_label:\n",
    "    index_to_label_final[key] = \"__label__\" + str(index_to_label[key]) \n",
    "\n",
    "print(index_to_label_final) "
   ]
  },
  {
   "cell_type": "code",
   "execution_count": 10,
   "metadata": {},
   "outputs": [
    {
     "data": {
      "text/html": [
       "<div>\n",
       "<style scoped>\n",
       "    .dataframe tbody tr th:only-of-type {\n",
       "        vertical-align: middle;\n",
       "    }\n",
       "\n",
       "    .dataframe tbody tr th {\n",
       "        vertical-align: top;\n",
       "    }\n",
       "\n",
       "    .dataframe thead th {\n",
       "        text-align: right;\n",
       "    }\n",
       "</style>\n",
       "<table border=\"1\" class=\"dataframe\">\n",
       "  <thead>\n",
       "    <tr style=\"text-align: right;\">\n",
       "      <th></th>\n",
       "      <th>label</th>\n",
       "      <th>sentence</th>\n",
       "    </tr>\n",
       "  </thead>\n",
       "  <tbody>\n",
       "    <tr>\n",
       "      <th>0</th>\n",
       "      <td>__label__Company</td>\n",
       "      <td>E. D. Abbott Ltd, Abbott of Farnham E D Abbott...</td>\n",
       "    </tr>\n",
       "    <tr>\n",
       "      <th>1</th>\n",
       "      <td>__label__Company</td>\n",
       "      <td>Schwan-Stabilo, Schwan-STABILO is a German mak...</td>\n",
       "    </tr>\n",
       "    <tr>\n",
       "      <th>2</th>\n",
       "      <td>__label__Company</td>\n",
       "      <td>Q-workshop, Q-workshop is a Polish company loc...</td>\n",
       "    </tr>\n",
       "    <tr>\n",
       "      <th>3</th>\n",
       "      <td>__label__Company</td>\n",
       "      <td>Marvell Software Solutions Israel, Marvell Sof...</td>\n",
       "    </tr>\n",
       "    <tr>\n",
       "      <th>4</th>\n",
       "      <td>__label__Company</td>\n",
       "      <td>Bergan Mercy Medical Center, Bergan Mercy Medi...</td>\n",
       "    </tr>\n",
       "    <tr>\n",
       "      <th>5</th>\n",
       "      <td>__label__Company</td>\n",
       "      <td>The Unsigned Guide, The Unsigned Guide is an o...</td>\n",
       "    </tr>\n",
       "    <tr>\n",
       "      <th>6</th>\n",
       "      <td>__label__Company</td>\n",
       "      <td>Rest of the world, Within sports and games pla...</td>\n",
       "    </tr>\n",
       "    <tr>\n",
       "      <th>7</th>\n",
       "      <td>__label__Company</td>\n",
       "      <td>Globoforce, Globoforce is a multinational comp...</td>\n",
       "    </tr>\n",
       "    <tr>\n",
       "      <th>8</th>\n",
       "      <td>__label__Company</td>\n",
       "      <td>Rompetrol, The Rompetrol Group N.V. is a Roman...</td>\n",
       "    </tr>\n",
       "    <tr>\n",
       "      <th>9</th>\n",
       "      <td>__label__Company</td>\n",
       "      <td>Wave Accounting, Wave is the brand name for a ...</td>\n",
       "    </tr>\n",
       "  </tbody>\n",
       "</table>\n",
       "</div>"
      ],
      "text/plain": [
       "              label                                           sentence\n",
       "0  __label__Company  E. D. Abbott Ltd, Abbott of Farnham E D Abbott...\n",
       "1  __label__Company  Schwan-Stabilo, Schwan-STABILO is a German mak...\n",
       "2  __label__Company  Q-workshop, Q-workshop is a Polish company loc...\n",
       "3  __label__Company  Marvell Software Solutions Israel, Marvell Sof...\n",
       "4  __label__Company  Bergan Mercy Medical Center, Bergan Mercy Medi...\n",
       "5  __label__Company  The Unsigned Guide, The Unsigned Guide is an o...\n",
       "6  __label__Company  Rest of the world, Within sports and games pla...\n",
       "7  __label__Company  Globoforce, Globoforce is a multinational comp...\n",
       "8  __label__Company  Rompetrol, The Rompetrol Group N.V. is a Roman...\n",
       "9  __label__Company  Wave Accounting, Wave is the brand name for a ..."
      ]
     },
     "execution_count": 10,
     "metadata": {},
     "output_type": "execute_result"
    }
   ],
   "source": [
    "\n",
    "def tokenize(series):\n",
    "    for index, value in series.items():\n",
    "        series[index] = nltk.word_tokenize(value.lower())\n",
    "    return series\n",
    "\n",
    "def preprocess(step1_df):\n",
    "    \n",
    "    step1_df = step1_df.dropna(axis=0) \n",
    "    \n",
    "    step2_df = pd.DataFrame()\n",
    "    step2_df['label'] = step1_df['label']\n",
    "    step2_df['label'] = step2_df['label'].map(str).map(index_to_label_final)\n",
    "    step2_df['sentence'] = step1_df[\"title\"].map(str) +\",\"+ step1_df[\"abstract\"].map(str)\n",
    "    step2_df['sentence'] = tokenize(step2_df['sentence'])\n",
    "    return step2_df\n",
    "\n",
    "step2_df = preprocess(step1_df)\n",
    "step2_df.head(10)"
   ]
  },
  {
   "cell_type": "code",
   "execution_count": 11,
   "metadata": {},
   "outputs": [],
   "source": [
    "# 预处理后的数据集作为baseline实验的数据集\n",
    "\n",
    "step2_df.to_csv(\"baseline_dataset/dataset_baseline.csv\", sep=\" \", header=0, index=0)"
   ]
  },
  {
   "cell_type": "markdown",
   "metadata": {},
   "source": [
    "## Step 3 - 处理样本不均衡\n",
    "\n",
    "解决办法：对于文本数据，我们采取 回译 和 EDA 这两种过采样方法对少样本进行增强。"
   ]
  },
  {
   "cell_type": "markdown",
   "metadata": {},
   "source": [
    "### 数据分析\n",
    "\n",
    "要对上述样本进行样本增强的同时不能太破坏原有数据的规律，即，各个类别的数量变化大致趋势要保持一致。\n",
    "\n",
    "原数据集label1的数量最多为4w条，label14的数量最少为15条，并且从label1到label14一直呈数量递减。\n",
    "\n",
    "增强后的数据的目标：最少数量类别增强后要在最大数量类别的1/3到1/2之间。也就是40000/3到40000/2之间，也就是133333到20000之间。\n",
    "\n",
    "如何保持原有数据规律：原有数据大致呈等差递减数列，因此增强后的数据也保持等差递减。公差在(40000-40000/3)/13到(40000-40000/2)/13之间，也就是2051到1538之间，便于计算取值2000作为公差。\n",
    "\n",
    "因此对于本项目中的数据增强，希望达到的大致数据：首项为40000，公差为2000的等差数列。y(x)=40000-2000(x-1)。增强后数量最少的label14的数量大致为14000"
   ]
  },
  {
   "cell_type": "markdown",
   "metadata": {},
   "source": [
    "### 过采样方法一：回译\n",
    "\n",
    "回译：将文本翻译成另一种语言，再翻译回来。对翻译再进行去重，可以达到样本增加n倍效果，并且能够保持文本语义信息不变。"
   ]
  },
  {
   "cell_type": "code",
   "execution_count": 16,
   "metadata": {},
   "outputs": [],
   "source": [
    "# 采用 回译 处理样本不均衡\n",
    "\n",
    "import random\n",
    "import boto3\n",
    "\n",
    "translate_client = boto3.client('translate')\n",
    "\n",
    "# AWS Translate除了english(en)之外还支持54种语言\n",
    "available_lang = [\"af\",\"sq\",\"am\",\"ar\",\"az\",\"bn\",\"bs\",\"bg\",\"zh\",\"zh-TW\",\"hr\",\"cs\",\"da\",\"fa-AF\",\"nl\",\"et\",\"fi\",\"fr\",\"fr-CA\",\"ka\",\"de\",\"el\",\"ha\",\"he\",\n",
    "                  \"hi\",\"hu\",\"id\",\"ja\",\"ko\",\"lv\",\"ms\",\"no\",\"fa\",\"ps\",\"pl\",\"pt\",\"ro\",\"ru\",\"sr\",\"sk\",\"sl\",\"so\",\"es\",\"es-MX\",\"sw\",\"sv\",\"tl\",\"ta\",\"th\",\"tr\",\"uk\",\"ur\",\"vi\"]\n",
    "\n",
    "'''\n",
    "回译函数\n",
    "'''\n",
    "def back_translate(text, sourceLanguageCode, targetLanguageCode):\n",
    "    response1 = translate_client.translate_text(\n",
    "        Text = text,\n",
    "        SourceLanguageCode = sourceLanguageCode,\n",
    "        TargetLanguageCode = targetLanguageCode\n",
    "    )\n",
    "    translation_text = response1['TranslatedText']\n",
    "#     print(translation_text)\n",
    "    response2 = translate_client.translate_text(\n",
    "        Text = text,\n",
    "        SourceLanguageCode = targetLanguageCode,\n",
    "        TargetLanguageCode = sourceLanguageCode\n",
    "    )\n",
    "    return response2['TranslatedText']\n",
    "\n",
    "'''\n",
    "对54次回译结果去重，并从set结果中选择n个包含原句子的句子\n",
    "'''\n",
    "def get_translation_set(text, n):\n",
    "    translation_set = set()\n",
    "    translation_set.add(text)\n",
    "    for language in available_lang:\n",
    "        result = back_translate(text, \"en\", language)\n",
    "        translation_set.add(result)\n",
    "    translation_set.remove(text)\n",
    "    if n-1 <= len(translation_set):\n",
    "        translation_set = set(random.sample(translation_set, n-1))\n",
    "    translation_set.add(text)\n",
    "    return translation_set\n",
    "\n",
    "'''\n",
    "得到对应label的回译list\n",
    "return: [[label,sent1],[label,sent2]...]\n",
    "'''\n",
    "def get_label_translation_list(label, sentences, n):\n",
    "    result = []\n",
    "    for text in sentences:\n",
    "        translation_set = get_translation_set(text, n)\n",
    "        for tanslation in translation_set:\n",
    "            result.append([label,tanslation])\n",
    "    return result"
   ]
  },
  {
   "cell_type": "code",
   "execution_count": 17,
   "metadata": {},
   "outputs": [
    {
     "name": "stdout",
     "output_type": "stream",
     "text": [
      "[['__label__Company', 'E. D. Abbott Ltd, Abbott of Farnham E D Abbott Limited was a British coachbuilding business based in Farnham Surrey trading under that name from 1929.'], ['__label__Company', 'E. D. Abbott Ltd, Abbott of Farnham E D Abbott Limited is a British coachbuilding business based in Farnham Surrey Trading Under The name from 1929.'], ['__label__Company', 'E. D. Abbott Ltd, Abbott of Farnham E D Abbott Limited was a British business coachbuilding based in Farnham Surrey trading under that name from 1929.'], ['__label__Company', 'E. D. Abbott Ltd, Abbott of Farnham E D Abbott Limited was a British coachbuilding business based on Farnham Surrey trading under that name from 1929.'], ['__label__Company', 'E. D. Abbott Ltd, Abbott of Farnham E D Abbott Limited was a British coachbuilding business based in Farnham Surrey trade under that name from 1929.']]\n"
     ]
    }
   ],
   "source": [
    "# 简单测试回译效果\n",
    "\n",
    "label = \"__label__Company\"\n",
    "sentences = [\"E. D. Abbott Ltd, Abbott of Farnham E D Abbott Limited was a British coachbuilding business based in Farnham Surrey trading under that name from 1929.\"]\n",
    "print(get_label_translation_list(label, sentences, 5))"
   ]
  },
  {
   "cell_type": "code",
   "execution_count": 18,
   "metadata": {},
   "outputs": [],
   "source": [
    "# 计算回译阶段需要增强的倍数 n1 值\n",
    "\n",
    "import math\n",
    "\n",
    "'''\n",
    "根据label名字反推出id\n",
    "'''\n",
    "def get_num_from_name(name):\n",
    "    num = 0;\n",
    "    for key in index_to_label_final:\n",
    "        if index_to_label_final[key] == name:\n",
    "            num = int(key)\n",
    "    return num;\n",
    "\n",
    "'''\n",
    "计算n1值\n",
    "'''\n",
    "def calcu_n1(name):\n",
    "    num = get_num_from_name(name)\n",
    "    \n",
    "    current_num = group.label.value_counts().iloc[0]\n",
    "    expected_num = 40000-2000*(num-1)\n",
    "        \n",
    "    n1 = math.floor(expected_num/current_num)\n",
    "    return n1"
   ]
  },
  {
   "cell_type": "code",
   "execution_count": 19,
   "metadata": {},
   "outputs": [
    {
     "name": "stdout",
     "output_type": "stream",
     "text": [
      "processing: 12,__label__Album\n",
      "processing: 10,__label__Animal\n",
      "processing: 3,__label__Artist\n",
      "processing: 4,__label__Athlete\n",
      "processing: 7,__label__Building\n",
      "processing: 2,__label__EducationalInstitution\n",
      "processing: 13,__label__Film\n",
      "processing: 6,__label__MeanOfTransportation\n",
      "processing: 8,__label__NaturalPlace\n",
      "processing: 5,__label__OfficeHolder\n",
      "processing: 11,__label__Plant\n",
      "processing: 9,__label__Village\n",
      "processing: 14,__label__WrittenWork\n"
     ]
    }
   ],
   "source": [
    "# 开始进行分组回译处理\n",
    "# 测试阶段为了效率，只对 label13 和 label14 进行回译处理\n",
    "\n",
    "grouped = step2_df.groupby('label')\n",
    "\n",
    "group1 = grouped.get_group(\"__label__Company\")\n",
    "back_translate_df = pd.DataFrame(group1)\n",
    "\n",
    "for name, group in grouped:\n",
    "    num = get_num_from_name(name)\n",
    "    \n",
    "    if num != 1:\n",
    "        print (\"processing: \" + str(num) + \",\" + name)\n",
    "\n",
    "        n1 = calcu_n1(name)\n",
    "        if n1 > 100:\n",
    "            label_translation_list = get_label_translation_list(name, group.sentence, n1)\n",
    "            group_df = pd.DataFrame(label_translation_list,columns=['label','sentence'])\n",
    "            back_translate_df = back_translate_df.append(group_df)\n",
    "        else:\n",
    "            back_translate_df = back_translate_df.append(pd.DataFrame(group))"
   ]
  },
  {
   "cell_type": "code",
   "execution_count": 21,
   "metadata": {},
   "outputs": [
    {
     "name": "stdout",
     "output_type": "stream",
     "text": [
      "__label__Company                   40000\n",
      "__label__EducationalInstitution    38000\n",
      "__label__Artist                    18000\n",
      "__label__Athlete                   17000\n",
      "__label__OfficeHolder              16000\n",
      "__label__MeanOfTransportation      15000\n",
      "__label__Building                  14000\n",
      "__label__NaturalPlace              13000\n",
      "__label__Village                    8000\n",
      "__label__Animal                     5000\n",
      "__label__Film                       3214\n",
      "__label__Plant                      3000\n",
      "__label__Album                       900\n",
      "__label__WrittenWork                 748\n",
      "Name: label, dtype: int64\n"
     ]
    },
    {
     "data": {
      "image/png": "[encoded data removed]",
      "text/plain": [
       "<Figure size 432x288 with 1 Axes>"
      ]
     },
     "metadata": {
      "needs_background": "light"
     },
     "output_type": "display_data"
    }
   ],
   "source": [
    "# 查看回译后的数据分布\n",
    "\n",
    "back_tanslate_classes = back_translate_df.label.value_counts()\n",
    "\n",
    "back_tanslate_classes.plot(kind = 'bar')\n",
    "plt.title(\"Label distribution (Back Translate)\")\n",
    "plt.xlabel(\"Class\")\n",
    "plt.ylabel(\"Frequency\");\n",
    "\n",
    "print(back_tanslate_classes)"
   ]
  },
  {
   "cell_type": "markdown",
   "metadata": {},
   "source": [
    "### 过采样方法二：EDA\n",
    "\n",
    "EDA：同义词替换、随机插入、随机交换、随机删除"
   ]
  },
  {
   "cell_type": "code",
   "execution_count": 25,
   "metadata": {},
   "outputs": [
    {
     "name": "stdout",
     "output_type": "stream",
     "text": [
      "Cloning into 'eda_nlp'...\n",
      "remote: Enumerating objects: 379, done.\u001b[K\n",
      "remote: Total 379 (delta 0), reused 0 (delta 0), pack-reused 379\u001b[K\n",
      "Receiving objects: 100% (379/379), 20.41 MiB | 7.57 MiB/s, done.\n",
      "Resolving deltas: 100% (183/183), done.\n"
     ]
    }
   ],
   "source": [
    "# 下载 eda 工具\n",
    "\n",
    "!git clone https://github.com/jasonwei20/eda_nlp.git"
   ]
  },
  {
   "cell_type": "code",
   "execution_count": 23,
   "metadata": {},
   "outputs": [],
   "source": [
    "# 因为每个 group 都要进行不同级别的 EDA 处理，这里简单得把每个 group 单独保存为了一个文件\n",
    "\n",
    "eda_grouped = back_translate_df.groupby('label')\n",
    "\n",
    "for name, group in eda_grouped:\n",
    "    every_group_df = pd.DataFrame(group)\n",
    "    filename = \"data_groups/group\" + name + \".csv\"\n",
    "    every_group_df.to_csv(filename, sep=\"\\t\", header=0, index=0)"
   ]
  },
  {
   "cell_type": "code",
   "execution_count": 55,
   "metadata": {},
   "outputs": [],
   "source": [
    "# 计算 EDA 阶段需要增强的倍数 n2 值\n",
    "\n",
    "import math\n",
    "\n",
    "'''\n",
    "计算n2值\n",
    "'''\n",
    "def calcu_n2(name):\n",
    "    num = get_num_from_name(name)\n",
    "    \n",
    "    current_num = group.label.value_counts().iloc[0]\n",
    "    expected_num = 40000-2000*(num-1)\n",
    "        \n",
    "    n2 = math.floor(expected_num/current_num)-1\n",
    "    return n2"
   ]
  },
  {
   "cell_type": "code",
   "execution_count": 36,
   "metadata": {},
   "outputs": [
    {
     "name": "stderr",
     "output_type": "stream",
     "text": [
      "[nltk_data] Downloading package wordnet to /home/ec2-user/nltk_data...\n",
      "[nltk_data]   Unzipping corpora/wordnet.zip.\n"
     ]
    },
    {
     "data": {
      "text/plain": [
       "True"
      ]
     },
     "execution_count": 36,
     "metadata": {},
     "output_type": "execute_result"
    }
   ],
   "source": [
    "import nltk\n",
    "\n",
    "nltk.download('wordnet')"
   ]
  },
  {
   "cell_type": "code",
   "execution_count": 56,
   "metadata": {},
   "outputs": [
    {
     "name": "stdout",
     "output_type": "stream",
     "text": [
      "generated augmented sentences with eda for data_groups/group__label__Album.csv to data_groups/eda_group__label__Album.csv with num_aug=19\n",
      "generated augmented sentences with eda for data_groups/group__label__Animal.csv to data_groups/eda_group__label__Animal.csv with num_aug=3\n",
      "generated augmented sentences with eda for data_groups/group__label__Artist.csv to data_groups/eda_group__label__Artist.csv with num_aug=1\n",
      "generated augmented sentences with eda for data_groups/group__label__Athlete.csv to data_groups/eda_group__label__Athlete.csv with num_aug=1\n",
      "generated augmented sentences with eda for data_groups/group__label__Building.csv to data_groups/eda_group__label__Building.csv with num_aug=1\n",
      "generated augmented sentences with eda for data_groups/group__label__Company.csv to data_groups/eda_group__label__Company.csv with num_aug=9\n",
      "generated augmented sentences with eda for data_groups/group__label__EducationalInstitution.csv to data_groups/eda_group__label__EducationalInstitution.csv with num_aug=9\n",
      "generated augmented sentences with eda for data_groups/group__label__Film.csv to data_groups/eda_group__label__Film.csv with num_aug=3\n",
      "generated augmented sentences with eda for data_groups/group__label__MeanOfTransportation.csv to data_groups/eda_group__label__MeanOfTransportation.csv with num_aug=1\n",
      "generated augmented sentences with eda for data_groups/group__label__NaturalPlace.csv to data_groups/eda_group__label__NaturalPlace.csv with num_aug=1\n",
      "generated augmented sentences with eda for data_groups/group__label__OfficeHolder.csv to data_groups/eda_group__label__OfficeHolder.csv with num_aug=1\n",
      "generated augmented sentences with eda for data_groups/group__label__Plant.csv to data_groups/eda_group__label__Plant.csv with num_aug=5\n",
      "generated augmented sentences with eda for data_groups/group__label__Village.csv to data_groups/eda_group__label__Village.csv with num_aug=2\n",
      "generated augmented sentences with eda for data_groups/group__label__WrittenWork.csv to data_groups/eda_group__label__WrittenWork.csv with num_aug=17\n"
     ]
    }
   ],
   "source": [
    "# EDA工具对每一组文件进行处理\n",
    "\n",
    "from shutil import copyfile\n",
    "\n",
    "groups = back_translate_df.groupby('label')\n",
    "\n",
    "for name, group in groups:\n",
    "    num = get_num_from_name(name)\n",
    "    n2 = calcu_n2(name)\n",
    "    filename = \"group\" + name + \".csv\"\n",
    "    if n2 > 0:\n",
    "        !python eda_nlp/code/augment.py --input=data_groups/$filename --num_aug=$n2 --alpha=0.1\n",
    "    else:\n",
    "        copyfile(\"data_groups/\" + filename, \"data_groups/\" + \"eda_\" + filename)\n",
    "        print(\"copied file: \" + filename)\n"
   ]
  },
  {
   "cell_type": "code",
   "execution_count": 68,
   "metadata": {},
   "outputs": [
    {
     "name": "stdout",
     "output_type": "stream",
     "text": [
      "data_groups/eda_group__label__MeanOfTransportation.csv\n",
      "data_groups/eda_group__label__WrittenWork.csv\n",
      "data_groups/eda_group__label__Film.csv\n",
      "data_groups/eda_group__label__Album.csv\n",
      "data_groups/eda_group__label__Village.csv\n",
      "data_groups/eda_group__label__Animal.csv\n",
      "data_groups/eda_group__label__EducationalInstitution.csv\n",
      "data_groups/eda_group__label__Athlete.csv\n",
      "data_groups/eda_group__label__Artist.csv\n",
      "data_groups/eda_group__label__Building.csv\n",
      "data_groups/eda_group__label__OfficeHolder.csv\n",
      "data_groups/eda_group__label__NaturalPlace.csv\n",
      "data_groups/eda_group__label__Plant.csv\n",
      "data_groups/eda_group__label__Company.csv\n"
     ]
    }
   ],
   "source": [
    "# 合并EDA处理后的各个文件\n",
    "\n",
    "import os\n",
    "\n",
    "step3_df = pd.DataFrame(columns=['label', 'sentence'])\n",
    "\n",
    "for root,dirs,files in os.walk(r\"data_groups\"):\n",
    "    for file in files:\n",
    "        #获取文件路径\n",
    "        file_path = os.path.join(root,file)\n",
    "\n",
    "        if \"eda\" in file_path:\n",
    "            print(file_path)\n",
    "            file_df = pd.read_csv(file_path, sep=\"\\t\", header=0, names=['label', 'sentence'])\n",
    "            step3_df = step3_df.append(file_df)"
   ]
  },
  {
   "cell_type": "code",
   "execution_count": 69,
   "metadata": {},
   "outputs": [
    {
     "name": "stdout",
     "output_type": "stream",
     "text": [
      "__label__Company                   39999\n",
      "__label__EducationalInstitution    37999\n",
      "__label__Artist                    35999\n",
      "__label__Athlete                   33999\n",
      "__label__OfficeHolder              31999\n",
      "__label__MeanOfTransportation      29999\n",
      "__label__Building                  27999\n",
      "__label__NaturalPlace              25999\n",
      "__label__Village                   23999\n",
      "__label__Animal                    19999\n",
      "__label__Plant                     17999\n",
      "__label__Album                     17099\n",
      "__label__Film                      16069\n",
      "__label__WrittenWork               13463\n",
      "Name: label, dtype: int64\n"
     ]
    },
    {
     "data": {
      "image/png": "[encoded data removed]",
      "text/plain": [
       "<Figure size 432x288 with 1 Axes>"
      ]
     },
     "metadata": {
      "needs_background": "light"
     },
     "output_type": "display_data"
    }
   ],
   "source": [
    "# 查看 EDA 处理后的样本分布\n",
    "\n",
    "translate_eda_classes = step3_df.label.value_counts()\n",
    "translate_eda_classes.plot(kind = 'bar')\n",
    "plt.title(\"Label distribution (Back Translate and eda)\")\n",
    "plt.xlabel(\"Class\")\n",
    "plt.ylabel(\"Frequency\");\n",
    "\n",
    "print(translate_eda_classes)"
   ]
  },
  {
   "cell_type": "code",
   "execution_count": 70,
   "metadata": {},
   "outputs": [],
   "source": [
    "step3_df.to_csv(\"sampling_dataset/dataset_oversampling.csv\", sep=\" \", header=0, index=0)"
   ]
  },
  {
   "cell_type": "markdown",
   "metadata": {},
   "source": [
    "## Step4 - 模型训练\n",
    "\n",
    "对过采样处理后的样本进行文本分类模型的训练。\n",
    "\n",
    "算法选择Sagemaker预置的BlazingText算法中的指导型文本分类模式。"
   ]
  },
  {
   "cell_type": "markdown",
   "metadata": {},
   "source": [
    "### 4.1 准备数据"
   ]
  },
  {
   "cell_type": "code",
   "execution_count": 72,
   "metadata": {},
   "outputs": [],
   "source": [
    "# 划分训练集和测试集\n",
    "\n",
    "import numpy as np\n",
    "from sklearn.model_selection import train_test_split\n",
    "\n",
    "sampling_train, sampling_test = train_test_split(step3_df, test_size=0.15)\n",
    "sampling_train.to_csv(\"sampling_dataset/sampling_train.csv\", sep=\" \", header=0, index=0)\n",
    "sampling_test.to_csv(\"sampling_dataset/sampling_test.csv\", sep=\" \", header=0, index=0)"
   ]
  },
  {
   "cell_type": "code",
   "execution_count": 73,
   "metadata": {},
   "outputs": [],
   "source": [
    "# 上传数据到 S3\n",
    "\n",
    "train_channel = prefix + '/sampling' + '/train'\n",
    "validation_channel = prefix + '/sampling' + '/validation'\n",
    "\n",
    "sess.upload_data(path='sampling_dataset/sampling_train.csv', bucket=bucket, key_prefix=train_channel)\n",
    "sess.upload_data(path='sampling_dataset/sampling_test.csv', bucket=bucket, key_prefix=validation_channel)\n",
    "\n",
    "s3_train_data = 's3://{}/{}'.format(bucket, train_channel)\n",
    "s3_validation_data = 's3://{}/{}'.format(bucket, validation_channel)"
   ]
  },
  {
   "cell_type": "code",
   "execution_count": 74,
   "metadata": {},
   "outputs": [],
   "source": [
    "s3_output_location = 's3://{}/{}/sampling/output'.format(bucket, prefix)"
   ]
  },
  {
   "cell_type": "code",
   "execution_count": 75,
   "metadata": {},
   "outputs": [],
   "source": [
    "region_name = boto3.Session().region_name"
   ]
  },
  {
   "cell_type": "code",
   "execution_count": null,
   "metadata": {},
   "outputs": [],
   "source": [
    "train_data = sagemaker.session.s3_input(s3_train_data, distribution='FullyReplicated', \n",
    "                        content_type='text/plain', s3_data_type='S3Prefix')\n",
    "\n",
    "validation_data = sagemaker.session.s3_input(s3_validation_data, distribution='FullyReplicated', \n",
    "                             content_type='text/plain', s3_data_type='S3Prefix')\n",
    "\n",
    "data_channels = {'train': train_data, 'validation': validation_data}"
   ]
  },
  {
   "cell_type": "markdown",
   "metadata": {},
   "source": [
    "### 4.2 设置超参数优化作业"
   ]
  },
  {
   "cell_type": "code",
   "execution_count": null,
   "metadata": {},
   "outputs": [],
   "source": [
    "container = sagemaker.amazon.amazon_estimator.get_image_uri(region_name, \"blazingtext\", \"latest\")\n",
    "print('Using SageMaker BlazingText container: {} ({})'.format(container, region_name))"
   ]
  },
  {
   "cell_type": "code",
   "execution_count": 77,
   "metadata": {},
   "outputs": [
    {
     "name": "stderr",
     "output_type": "stream",
     "text": [
      "WARNING:sagemaker.estimator:Parameter image_name will be renamed to image_uri in SageMaker Python SDK v2.\n"
     ]
    }
   ],
   "source": [
    "bt_model = sagemaker.estimator.Estimator(container,\n",
    "                                         role, \n",
    "                                         train_instance_count=1, \n",
    "                                         train_instance_type='ml.c4.4xlarge',\n",
    "                                         train_volume_size = 30,\n",
    "                                         train_max_run = 360000,\n",
    "                                         input_mode= 'File',\n",
    "                                         output_path=s3_output_location,\n",
    "                                         sagemaker_session=sess)"
   ]
  },
  {
   "cell_type": "code",
   "execution_count": 78,
   "metadata": {},
   "outputs": [],
   "source": [
    "bt_model.set_hyperparameters(\n",
    "                            mode=\"supervised\",\n",
    "                            epochs=10,\n",
    "                            min_count=2,\n",
    "                            early_stopping=True,\n",
    "                            patience=4,\n",
    "                            min_epochs=5)"
   ]
  },
  {
   "cell_type": "code",
   "execution_count": null,
   "metadata": {},
   "outputs": [],
   "source": [
    "from sagemaker.tuner import IntegerParameter, CategoricalParameter, ContinuousParameter, HyperparameterTuner\n",
    "\n",
    "hyperparameter_ranges = {'learning_rate': ContinuousParameter(0.03, 0.06),\n",
    "                         'vector_dim': IntegerParameter(100, 200),\n",
    "                         'word_ngrams': IntegerParameter(1, 3)}\n",
    "\n",
    "objective_metric_name = 'validation:accuracy'\n",
    "\n",
    "tuner = HyperparameterTuner(bt_model,\n",
    "                            objective_metric_name,\n",
    "                            hyperparameter_ranges,\n",
    "                            objective_type='Maximize',\n",
    "                            max_jobs=9,\n",
    "                            max_parallel_jobs=3)"
   ]
  },
  {
   "cell_type": "markdown",
   "metadata": {},
   "source": [
    "### 4.3 启动超参数优化作业"
   ]
  },
  {
   "cell_type": "code",
   "execution_count": null,
   "metadata": {},
   "outputs": [],
   "source": [
    "bt_model.fit(inputs=data_channels, job_name=\"hyperparameter-oversampling-job\", logs=True)"
   ]
  },
  {
   "cell_type": "markdown",
   "metadata": {},
   "source": [
    "## Step 5 - 模型部署\n",
    "\n",
    "对采样后的模型进行部署，并且用测试集进行测试，查看每一个分类的输出指标"
   ]
  },
  {
   "cell_type": "code",
   "execution_count": 81,
   "metadata": {},
   "outputs": [
    {
     "name": "stderr",
     "output_type": "stream",
     "text": [
      "WARNING:sagemaker:Parameter image will be renamed to image_uri in SageMaker Python SDK v2.\n"
     ]
    },
    {
     "name": "stdout",
     "output_type": "stream",
     "text": [
      "-------------!"
     ]
    }
   ],
   "source": [
    "# 过采样后的模型部署\n",
    "\n",
    "sampling_classifier = bt_model.deploy(initial_instance_count = 1,instance_type = 'ml.m4.xlarge')"
   ]
  },
  {
   "cell_type": "markdown",
   "metadata": {},
   "source": [
    "## Step 7 - 模型评估和测试"
   ]
  },
  {
   "cell_type": "code",
   "execution_count": 82,
   "metadata": {},
   "outputs": [
    {
     "name": "stdout",
     "output_type": "stream",
     "text": [
      "                                 precision    recall  f1-score   support\n",
      "\n",
      "                 __label__Album       1.00      1.00      1.00      2527\n",
      "                __label__Animal       0.99      1.00      1.00      3031\n",
      "                __label__Artist       0.98      0.99      0.99      5407\n",
      "               __label__Athlete       1.00      1.00      1.00      5032\n",
      "              __label__Building       0.99      0.99      0.99      4270\n",
      "               __label__Company       0.98      0.99      0.99      6010\n",
      "__label__EducationalInstitution       0.99      0.99      0.99      5611\n",
      "                  __label__Film       1.00      1.00      1.00      2502\n",
      "  __label__MeanOfTransportation       1.00      0.99      0.99      4419\n",
      "          __label__NaturalPlace       0.99      0.99      0.99      3921\n",
      "          __label__OfficeHolder       0.99      0.98      0.99      4774\n",
      "                 __label__Plant       1.00      0.99      0.99      2756\n",
      "               __label__Village       1.00      1.00      1.00      3619\n",
      "           __label__WrittenWork       1.00      1.00      1.00      2014\n",
      "\n",
      "                       accuracy                           0.99     55893\n",
      "                      macro avg       0.99      0.99      0.99     55893\n",
      "                   weighted avg       0.99      0.99      0.99     55893\n",
      "\n"
     ]
    }
   ],
   "source": [
    "# 样本不均衡处理后的模型测试指标\n",
    "\n",
    "from sklearn.metrics import classification_report\n",
    "import json\n",
    "\n",
    "sentenses = sampling_test['sentence'].tolist()\n",
    "# print(sentenses)\n",
    "\n",
    "payload = {\"instances\" : sentenses}\n",
    "response = sampling_classifier.predict(json.dumps(payload))\n",
    "predictions = json.loads(response)\n",
    "# print(predictions)\n",
    "\n",
    "predict_label = []\n",
    "for one in predictions:\n",
    "#     print(one['label'][0])\n",
    "    predict_label.append(one['label'][0])\n",
    "# print(predict_label)\n",
    "\n",
    "real_label = sampling_test['label'].tolist()\n",
    "# print(real_label)\n",
    "\n",
    "print(classification_report(real_label, predict_label))"
   ]
  },
  {
   "cell_type": "code",
   "execution_count": null,
   "metadata": {},
   "outputs": [],
   "source": []
  }
 ],
 "metadata": {
  "kernelspec": {
   "display_name": "conda_python3",
   "language": "python",
   "name": "conda_python3"
  },
  "language_info": {
   "codemirror_mode": {
    "name": "ipython",
    "version": 3
   },
   "file_extension": ".py",
   "mimetype": "text/x-python",
   "name": "python",
   "nbconvert_exporter": "python",
   "pygments_lexer": "ipython3",
   "version": "3.6.10"
  }
 },
 "nbformat": 4,
 "nbformat_minor": 4
}
